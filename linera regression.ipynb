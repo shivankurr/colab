{
  "nbformat": 4,
  "nbformat_minor": 0,
  "metadata": {
    "colab": {
      "provenance": [],
      "authorship_tag": "ABX9TyPeKdjemBMcsno27sK2R40q",
      "include_colab_link": true
    },
    "kernelspec": {
      "name": "python3",
      "display_name": "Python 3"
    },
    "language_info": {
      "name": "python"
    }
  },
  "cells": [
    {
      "cell_type": "markdown",
      "metadata": {
        "id": "view-in-github",
        "colab_type": "text"
      },
      "source": [
        "<a href=\"https://colab.research.google.com/github/shivankurr/colab/blob/main/linera%20regression.ipynb\" target=\"_parent\"><img src=\"https://colab.research.google.com/assets/colab-badge.svg\" alt=\"Open In Colab\"/></a>"
      ]
    },
    {
      "cell_type": "code",
      "execution_count": null,
      "metadata": {
        "colab": {
          "base_uri": "https://localhost:8080/"
        },
        "id": "YW18y3LOspaM",
        "outputId": "38cf433d-7761-466d-b7db-5aa8e203ee4c"
      },
      "outputs": [
        {
          "output_type": "stream",
          "name": "stdout",
          "text": [
            "53.024574987375864\n"
          ]
        }
      ],
      "source": [
        "from scipy import stats\n",
        "x=[5,7,8,7,2,6,44,12,4]\n",
        "y=[8,99,44,66,88,99,12,33,22]\n",
        "slope,intercept,r,p,std_err=stats.linregress(x,y)\n",
        "def myfunc(x):\n",
        "  return slope * x + intercept\n",
        "s=myfunc(10)\n",
        "print(s)"
      ]
    }
  ]
}