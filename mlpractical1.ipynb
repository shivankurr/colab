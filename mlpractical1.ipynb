{
  "nbformat": 4,
  "nbformat_minor": 0,
  "metadata": {
    "colab": {
      "provenance": [],
      "authorship_tag": "ABX9TyNmb2jE8O8qo53A+wrHy3be",
      "include_colab_link": true
    },
    "kernelspec": {
      "name": "python3",
      "display_name": "Python 3"
    },
    "language_info": {
      "name": "python"
    }
  },
  "cells": [
    {
      "cell_type": "markdown",
      "metadata": {
        "id": "view-in-github",
        "colab_type": "text"
      },
      "source": [
        "<a href=\"https://colab.research.google.com/github/shivankurr/colab/blob/main/mlpractical1.ipynb\" target=\"_parent\"><img src=\"https://colab.research.google.com/assets/colab-badge.svg\" alt=\"Open In Colab\"/></a>"
      ]
    },
    {
      "cell_type": "code",
      "execution_count": null,
      "metadata": {
        "colab": {
          "base_uri": "https://localhost:8080/"
        },
        "id": "7zYs-UdPgVcl",
        "outputId": "8c233ed9-c25a-40d4-cac3-645b79a050a6"
      },
      "outputs": [
        {
          "output_type": "stream",
          "name": "stdout",
          "text": [
            "Current date & time : \n",
            "2023-05-09 12:04:38\n"
          ]
        }
      ],
      "source": [
        "\n",
        "import datetime as dt\n",
        "now=dt.datetime.now()\n",
        "print(\"Current date & time : \")\n",
        "print(now.strftime(\"%Y-%m-%d %H:%M:%S\"))\n"
      ]
    },
    {
      "cell_type": "code",
      "source": [
        "from math import pi\n",
        "r=float(input(\"Enter the radius: \"))\n",
        "a=pi*r**2\n",
        "ans=round(a,2)\n",
        "print(\"Area of the circle is: \"+str(a))\n",
        "print(\"Area of the circle is: \"+str(ans))"
      ],
      "metadata": {
        "colab": {
          "base_uri": "https://localhost:8080/"
        },
        "id": "inqX2foMgoQr",
        "outputId": "07e9078b-9dc3-4c24-cc2c-0e572c49d768"
      },
      "execution_count": null,
      "outputs": [
        {
          "output_type": "stream",
          "name": "stdout",
          "text": [
            "Enter the radius: 4\n",
            "Area of the circle is: 50.26548245743669\n",
            "Area of the circle is: 50.27\n"
          ]
        }
      ]
    },
    {
      "cell_type": "code",
      "source": [
        "fname=input(\"Enter first name: \")\n",
        "lname=input(\"Enter last name: \")\n",
        "print(\"Hello \"+fname+\" \"+lname)"
      ],
      "metadata": {
        "colab": {
          "base_uri": "https://localhost:8080/"
        },
        "id": "ix2VgeMXg1mJ",
        "outputId": "9b90e5ce-796c-477c-a244-1bdeb52bb55b"
      },
      "execution_count": null,
      "outputs": [
        {
          "output_type": "stream",
          "name": "stdout",
          "text": [
            "Enter first name: shivi\n",
            "Enter last name: sharma\n",
            "Hello shivi sharma\n"
          ]
        }
      ]
    },
    {
      "cell_type": "code",
      "source": [
        "import scipy as sp\n",
        "import numpy as np\n",
        "nums=np.random.randint(1,50,size=(1,15))[0]\n",
        "print(nums)"
      ],
      "metadata": {
        "colab": {
          "base_uri": "https://localhost:8080/"
        },
        "id": "dhw8POJyhAkN",
        "outputId": "2e9ed02a-d257-4ddb-e7c6-68c3ee8477ef"
      },
      "execution_count": null,
      "outputs": [
        {
          "output_type": "stream",
          "name": "stdout",
          "text": [
            "[27 13  5 24 42 13  5 36 35 49 36 15  7 42 29]\n"
          ]
        }
      ]
    },
    {
      "cell_type": "code",
      "source": [
        "print(\"Mean is: \",np.mean(nums))\n",
        "print(\"Median is: \",np.median(nums))"
      ],
      "metadata": {
        "colab": {
          "base_uri": "https://localhost:8080/"
        },
        "id": "73y4rgfDis9Q",
        "outputId": "3252bed4-0ea2-4d73-b8c6-3f273fbc6346"
      },
      "execution_count": null,
      "outputs": [
        {
          "output_type": "stream",
          "name": "stdout",
          "text": [
            "Mean is:  25.2\n",
            "Median is:  27.0\n"
          ]
        }
      ]
    },
    {
      "cell_type": "code",
      "source": [
        "\n",
        "import pandas as pd\n",
        "import numpy as np\n",
        "arr=np.array([1,2,3,4,5])\n",
        "print(arr.shape)\n",
        "print(arr.dtype)\n"
      ],
      "metadata": {
        "colab": {
          "base_uri": "https://localhost:8080/"
        },
        "id": "Lo7ecd1Li0_z",
        "outputId": "7e99efc7-8ccc-4fbf-9143-706829e83997"
      },
      "execution_count": null,
      "outputs": [
        {
          "output_type": "stream",
          "name": "stdout",
          "text": [
            "(5,)\n",
            "int64\n"
          ]
        }
      ]
    },
    {
      "cell_type": "code",
      "source": [
        "\n",
        "d=np.random.normal(size=(2,3))\n",
        "print(d)\n"
      ],
      "metadata": {
        "colab": {
          "base_uri": "https://localhost:8080/"
        },
        "id": "wlXJJ-qHi93A",
        "outputId": "aed5f254-5ed4-4d01-8b5b-3bbd1a0c4874"
      },
      "execution_count": null,
      "outputs": [
        {
          "output_type": "stream",
          "name": "stdout",
          "text": [
            "[[ 0.72741442  1.149754   -1.32721965]\n",
            " [ 1.4560679  -0.85719449 -0.32546778]]\n"
          ]
        }
      ]
    },
    {
      "cell_type": "code",
      "source": [
        "\n",
        "s=pd.DataFrame(d)\n",
        "print(s)\n"
      ],
      "metadata": {
        "colab": {
          "base_uri": "https://localhost:8080/"
        },
        "id": "o1lxSOOnjFA3",
        "outputId": "85cf506c-5215-4155-8855-992803e48934"
      },
      "execution_count": null,
      "outputs": [
        {
          "output_type": "stream",
          "name": "stdout",
          "text": [
            "          0         1         2\n",
            "0  0.727414  1.149754 -1.327220\n",
            "1  1.456068 -0.857194 -0.325468\n"
          ]
        }
      ]
    },
    {
      "cell_type": "code",
      "source": [
        " df1=pd.DataFrame(np.random.normal(size=(2,3)))\n",
        "df2=pd.DataFrame(np.random.normal(size=(3,3)))\n",
        "app=df1.append(df2)\n",
        "print(app)\n"
      ],
      "metadata": {
        "colab": {
          "base_uri": "https://localhost:8080/"
        },
        "id": "D_ynPaCkjc1w",
        "outputId": "47600645-c3bb-4ad7-f437-7628a2c9712d"
      },
      "execution_count": null,
      "outputs": [
        {
          "output_type": "stream",
          "name": "stdout",
          "text": [
            "          0         1         2\n",
            "0 -0.584511  1.230975  0.558765\n",
            "1 -0.619434  0.322595 -1.710024\n",
            "0  0.951567 -1.308824  0.164617\n",
            "1 -0.918961 -0.303545  0.153410\n",
            "2 -0.445339 -0.929527 -1.360224\n"
          ]
        },
        {
          "output_type": "stream",
          "name": "stderr",
          "text": [
            "<ipython-input-11-727774b92436>:3: FutureWarning: The frame.append method is deprecated and will be removed from pandas in a future version. Use pandas.concat instead.\n",
            "  app=df1.append(df2)\n"
          ]
        }
      ]
    }
  ]
}