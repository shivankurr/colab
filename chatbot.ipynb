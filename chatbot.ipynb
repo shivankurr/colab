{
  "nbformat": 4,
  "nbformat_minor": 0,
  "metadata": {
    "colab": {
      "provenance": [],
      "authorship_tag": "ABX9TyPexlSZCIM9hR+29ZXnWkzz",
      "include_colab_link": true
    },
    "kernelspec": {
      "name": "python3",
      "display_name": "Python 3"
    },
    "language_info": {
      "name": "python"
    }
  },
  "cells": [
    {
      "cell_type": "markdown",
      "metadata": {
        "id": "view-in-github",
        "colab_type": "text"
      },
      "source": [
        "<a href=\"https://colab.research.google.com/github/shivankurr/colab/blob/main/chatbot.ipynb\" target=\"_parent\"><img src=\"https://colab.research.google.com/assets/colab-badge.svg\" alt=\"Open In Colab\"/></a>"
      ]
    },
    {
      "cell_type": "code",
      "execution_count": 3,
      "metadata": {
        "id": "VzrZq8Um9lp6"
      },
      "outputs": [],
      "source": [
        "import random\n",
        "# Define a list of greetings\n",
        "greetings = [\"Hello!\", \"Hi there!\", \"Welcome!\", \"Greetings!\"]\n"
      ]
    },
    {
      "cell_type": "code",
      "source": [
        "# Define a list of common questions\n",
        "common_questions = [\n",
        "\"What is your name?\",\n",
        "\"How can I help you today?\",\n",
        "\"What symptoms are you experiencing?\",\n",
        "\"Do you have any allergies?\",\n",
        "\"Are you currently taking any medications?\",\n",
        "]"
      ],
      "metadata": {
        "id": "-VKh2P8D-Coh"
      },
      "execution_count": 4,
      "outputs": []
    },
    {
      "cell_type": "code",
      "source": [
        "# Define a list of responses\n",
        "responses = [\n",
        "\"I'm sorry, I'm just a chatbot and cannot provide medical advice. It's best to consult with a healthcare professional.\",\n",
        "\"Please consult with a doctor for proper diagnosis and treatment.\",\n",
        "\"It's important to seek medical attention for your condition.\",\n",
        "\"I recommend reaching out to a healthcare professional to discuss your concerns.\",\n",
        "]"
      ],
      "metadata": {
        "id": "JEx2gCjS-JjN"
      },
      "execution_count": 5,
      "outputs": []
    },
    {
      "cell_type": "code",
      "source": [
        "# Function to generate a random greeting\n",
        "def get_random_greeting():\n",
        "  return random.choice(greetings)"
      ],
      "metadata": {
        "id": "9ue1LBtM-W-3"
      },
      "execution_count": 9,
      "outputs": []
    },
    {
      "cell_type": "code",
      "source": [
        "# Function to respond to user input\n",
        "def respond(user_input):\n",
        "  if user_input.endswith(\"?\"):\n",
        "    return random.choice(responses)\n",
        "  else:\n",
        "    \n",
        "    return random.choice(common_questions)"
      ],
      "metadata": {
        "id": "6QLAPReH_E22"
      },
      "execution_count": 14,
      "outputs": []
    },
    {
      "cell_type": "code",
      "source": [
        "# Main chat loop\n",
        "def chat():\n",
        "  print(get_random_greeting())\n",
        "  while True:\n",
        "    user_input = input(\">\")\n",
        "    if user_input.lower() == \"exit\":\n",
        "         break\n",
        "  print(respond(user_input))\n",
        "  chat()"
      ],
      "metadata": {
        "id": "euSIhyml_bw0"
      },
      "execution_count": 23,
      "outputs": []
    },
    {
      "cell_type": "code",
      "source": [
        "chat()"
      ],
      "metadata": {
        "colab": {
          "base_uri": "https://localhost:8080/"
        },
        "id": "keLJ8ZyRAfKG",
        "outputId": "de0f2b20-dc73-44d5-aa4a-f29979a44e03"
      },
      "execution_count": null,
      "outputs": [
        {
          "name": "stdout",
          "output_type": "stream",
          "text": [
            "Hi there!\n",
            ">hi\n",
            ">why\n"
          ]
        }
      ]
    }
  ]
}